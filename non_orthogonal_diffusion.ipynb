{
 "cells": [
  {
   "cell_type": "code",
   "execution_count": 2,
   "metadata": {},
   "outputs": [],
   "source": [
    "import numpy as np"
   ]
  },
  {
   "cell_type": "code",
   "execution_count": 3,
   "metadata": {},
   "outputs": [],
   "source": [
    "neighbors = {\n",
    "    1:[2,3,'b1','b2'],\n",
    "    2:[1,4,'b1'],\n",
    "    3:[1,4,'b2'],\n",
    "    4:[2,3]\n",
    "}\n",
    "\n",
    "normals = {\n",
    "    (1,2):np.array([3/5,-4/5]),\n",
    "    (1,3):np.array([0,1.0]),\n",
    "    (1,'b1'):np.array([0,-1.0]),\n",
    "    (1,'b2'):np.array([-3/5,4/5]),\n",
    "    (2,1):np.array([-3/5,4/5]),\n",
    "    (2,4):np.array([0,1.0]),\n",
    "    (2,'b1'):np.array([0,-1.0]),\n",
    "    (3,1):np.array([0,-1.0]),\n",
    "    (3,4):np.array([3/5,-4/5]),\n",
    "    (3,'b2'):np.array([-3/5,4/5]),\n",
    "    (4,3):np.array([-3/5,4/5]),\n",
    "    (4,2):np.array([0,-1.0])\n",
    "}\n",
    "\n",
    "Tb1 = 20.0\n",
    "Tb2 = 30.0"
   ]
  },
  {
   "cell_type": "code",
   "execution_count": 4,
   "metadata": {},
   "outputs": [],
   "source": [
    "# Interpolate the gradient\n",
    "\n",
    "def interpolateGradient(elem, T):\n",
    "    summ = np.array([0.0,0.0])\n",
    "    for neighbor in neighbors[elem]:\n",
    "        if type(neighbor) == type(1):\n",
    "            summ += (T[neighbor - 1,0] - T[elem - 1,0]) * normals[(elem,neighbor)]\n",
    "        if type(neighbor) == type(\"\"):\n",
    "            if neighbor == 'b1':\n",
    "                summ += (Tb1 - T[elem - 1,0]) * normals[(elem,neighbor)]\n",
    "            else:\n",
    "                summ += (Tb2 - T[elem - 1,0]) * normals[(elem,neighbor)]\n",
    "    return (0.5/0.25) * summ\n",
    "\n",
    "def rhs_elem_one(T):\n",
    "    summ = 0.0\n",
    "    summ += (0.25) * np.dot((interpolateGradient(2,T) - interpolateGradient(1,T)),np.array([-2/5,-4/5]))\n",
    "    summ += (0.25) * np.dot((interpolateGradient(3,T) - interpolateGradient(1,T)),np.array([-4/5,2/5]))\n",
    "    summ += (0.25) * np.dot((-1*interpolateGradient(1,T)),np.array([2/5,4/5]))\n",
    "    summ += (0.25) * np.dot((-1*interpolateGradient(1,T)),np.array([4/5,-2/5]))\n",
    "    return summ\n",
    "\n",
    "def rhs_elem_two(T):\n",
    "    summ = 0.0\n",
    "    summ += (0.25) * np.dot((interpolateGradient(1,T)-interpolateGradient(2,T)),np.array([2/5,4/5]))\n",
    "    summ += (0.25) * np.dot((interpolateGradient(4,T) - interpolateGradient(2,T)),np.array([-4/5,2/5]))\n",
    "    summ += (0.25) * np.dot((-1*interpolateGradient(2,T)),np.array([4/5,-2/5]))\n",
    "    return summ\n",
    "\n",
    "def rhs_elem_three(T):\n",
    "    summ = 0.0\n",
    "    summ += (0.25) * np.dot((interpolateGradient(4,T)-interpolateGradient(3,T)),np.array([-2/5,-4/5]))\n",
    "    summ += (0.25) * np.dot((interpolateGradient(1,T) - interpolateGradient(3,T)),np.array([4/5,-2/5]))\n",
    "    summ += (0.25) * np.dot((-1*interpolateGradient(3,T)),np.array([2/5,4/5]))\n",
    "    return summ\n",
    "\n",
    "def rhs_elem_four(T):\n",
    "    summ = 0.0\n",
    "    summ += (0.25) * np.dot((interpolateGradient(3,T)-interpolateGradient(4,T)),np.array([2/5,4/5]))\n",
    "    summ += (0.25) * np.dot((interpolateGradient(2,T) - interpolateGradient(4,T)),np.array([4/5,-2/5]))\n",
    "    return summ"
   ]
  },
  {
   "cell_type": "code",
   "execution_count": 5,
   "metadata": {},
   "outputs": [],
   "source": [
    "def correct_rhs(T):\n",
    "    T[0] += rhs_elem_one(T)\n",
    "    T[1] += rhs_elem_two(T)\n",
    "    T[2] += rhs_elem_three(T)\n",
    "    T[3] += rhs_elem_four(T)"
   ]
  },
  {
   "cell_type": "code",
   "execution_count": 6,
   "metadata": {},
   "outputs": [],
   "source": [
    "A = np.matrix([\n",
    "    [6,-1,-1,0],\n",
    "    [-1,4,0,-1],\n",
    "    [-1,0,4,-1],\n",
    "    [0,-1,-1,2]\n",
    "])\n",
    "\n",
    "b = np.array([100,40,60,0]).reshape((-1,1))"
   ]
  },
  {
   "cell_type": "code",
   "execution_count": 7,
   "metadata": {},
   "outputs": [
    {
     "name": "stdout",
     "output_type": "stream",
     "text": [
      "[[24.40677966]\n",
      " [26.02063375]\n",
      " [26.50700074]\n",
      " [27.24392041]]\n",
      "Iterations: 21\n"
     ]
    }
   ],
   "source": [
    "# Gauss Seidel + corrective terms\n",
    "# I think it's actually the Jacobi...\n",
    "\n",
    "# initial guess\n",
    "T = np.array([0,0,0,0]).reshape((-1,1))\n",
    "\n",
    "B = np.diag(np.diag(A))\n",
    "M = (-1)*(A - B)\n",
    "Binv = np.linalg.inv(B)\n",
    "G = np.matmul(Binv, M)\n",
    "g = np.matmul(Binv, b)\n",
    "\n",
    "\n",
    "Tn = np.matmul(G,T) + g\n",
    "correct_rhs(Tn)\n",
    "\n",
    "resid = []\n",
    "iter = 1\n",
    "while (np.abs(np.linalg.norm(Tn - T)) > 1e-10 and iter < 50000):\n",
    "    T = Tn*0 + Tn\n",
    "    Tn = np.matmul(G, T) + g\n",
    "    correct_rhs(Tn)\n",
    "    resid.append(np.abs(np.linalg.norm(Tn - T)))\n",
    "    iter += 1\n",
    "\n",
    "print(Tn)\n",
    "print(\"Iterations: \" + str(iter))"
   ]
  },
  {
   "cell_type": "code",
   "execution_count": 10,
   "metadata": {},
   "outputs": [
    {
     "data": {
      "text/plain": [
       "[<matplotlib.lines.Line2D at 0x7fa639cb2860>]"
      ]
     },
     "execution_count": 10,
     "metadata": {},
     "output_type": "execute_result"
    },
    {
     "data": {
      "image/png": "[encoded data removed]",
      "text/plain": [
       "<Figure size 640x480 with 1 Axes>"
      ]
     },
     "metadata": {},
     "output_type": "display_data"
    }
   ],
   "source": [
    "import matplotlib.pyplot as plt\n",
    "\n",
    "plt.plot(np.arange(0,20),resid)"
   ]
  },
  {
   "cell_type": "code",
   "execution_count": 11,
   "metadata": {},
   "outputs": [
    {
     "data": {
      "text/plain": [
       "<matplotlib.image.AxesImage at 0x7fa639b526e0>"
      ]
     },
     "execution_count": 11,
     "metadata": {},
     "output_type": "execute_result"
    },
    {
     "data": {
      "image/png": "[encoded data removed]",
      "text/plain": [
       "<Figure size 480x480 with 1 Axes>"
      ]
     },
     "metadata": {},
     "output_type": "display_data"
    }
   ],
   "source": [
    "plt.matshow(Tn.reshape((2,2)))"
   ]
  },
  {
   "cell_type": "code",
   "execution_count": null,
   "metadata": {},
   "outputs": [],
   "source": []
  }
 ],
 "metadata": {
  "kernelspec": {
   "display_name": "oat_env",
   "language": "python",
   "name": "oat_env"
  },
  "language_info": {
   "codemirror_mode": {
    "name": "ipython",
    "version": 3
   },
   "file_extension": ".py",
   "mimetype": "text/x-python",
   "name": "python",
   "nbconvert_exporter": "python",
   "pygments_lexer": "ipython3",
   "version": "3.10.12"
  }
 },
 "nbformat": 4,
 "nbformat_minor": 2
}
